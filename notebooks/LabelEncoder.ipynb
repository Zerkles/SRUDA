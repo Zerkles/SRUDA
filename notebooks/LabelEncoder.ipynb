{
 "cells": [
  {
   "cell_type": "code",
   "execution_count": 1,
   "metadata": {},
   "outputs": [
    {
     "name": "stdout",
     "output_type": "stream",
     "text": [
      "Hello World\n"
     ]
    }
   ],
   "source": [
    "from sklearn.preprocessing import LabelEncoder\n",
    "\n",
    "labelEncoders = {'product_age_group': LabelEncoder(),\n",
    "     'device_type': LabelEncoder(),\n",
    "     'audience_id': LabelEncoder(),\n",
    "     'product_gender': LabelEncoder(),\n",
    "     'product_brand': LabelEncoder(),\n",
    "     'product_category1': LabelEncoder(),\n",
    "     'product_category2': LabelEncoder(),\n",
    "     'product_category3': LabelEncoder(),\n",
    "     'product_category4': LabelEncoder(),\n",
    "     'product_category5': LabelEncoder(),\n",
    "     'product_category6': LabelEncoder(),\n",
    "     'product_category7': LabelEncoder(),\n",
    "     'product_country': LabelEncoder(),\n",
    "     'product_id': LabelEncoder(),\n",
    "     'product_title': LabelEncoder(),\n",
    "     'partner_id': LabelEncoder(),\n",
    "     'user_id': LabelEncoder()}"
   ]
  },
  {
   "cell_type": "code",
   "execution_count": null,
   "metadata": {},
   "outputs": [],
   "source": [
    "for name in labelEncoders.names:\n",
    "    labelEncoders[name].fit(df[name])\n",
    "    labelEncoders[name].transform(df[name])"
   ]
  }
 ],
 "metadata": {
  "kernelspec": {
   "display_name": "Python 3",
   "language": "python",
   "name": "python3"
  },
  "language_info": {
   "codemirror_mode": {
    "name": "ipython",
    "version": 3
   },
   "file_extension": ".py",
   "mimetype": "text/x-python",
   "name": "python",
   "nbconvert_exporter": "python",
   "pygments_lexer": "ipython3",
   "version": "3.8.5"
  }
 },
 "nbformat": 4,
 "nbformat_minor": 4
}
